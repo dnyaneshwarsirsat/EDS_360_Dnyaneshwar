{
  "nbformat": 4,
  "nbformat_minor": 0,
  "metadata": {
    "colab": {
      "provenance": [],
      "authorship_tag": "ABX9TyOHsYGD91rJz/r1jYFBPQqs",
      "include_colab_link": true
    },
    "kernelspec": {
      "name": "python3",
      "display_name": "Python 3"
    },
    "language_info": {
      "name": "python"
    }
  },
  "cells": [
    {
      "cell_type": "markdown",
      "metadata": {
        "id": "view-in-github",
        "colab_type": "text"
      },
      "source": [
        "<a href=\"https://colab.research.google.com/github/dnyaneshwarsirsat/EDS_360_Dnyaneshwar/blob/main/Untitled6.ipynb\" target=\"_parent\"><img src=\"https://colab.research.google.com/assets/colab-badge.svg\" alt=\"Open In Colab\"/></a>"
      ]
    },
    {
      "cell_type": "code",
      "source": [
        "import pandas as pd\n",
        "\n",
        "# Read the CSV file\n",
        "data = pd.read_csv('/content/Automobile.csv')\n",
        "\n",
        "lowest_weight_count = len(data[data['weight'] == data['weight'].min()])\n",
        "print(\"Total number of cars with lowest weight:\", lowest_weight_count)\n",
        "\n",
        "highest_weight_count = len(data[data['weight'] == data['weight'].max()])\n",
        "print(\"Total number of cars with highest weight:\", highest_weight_count)\n",
        "\n",
        "mean_acceleration = data['acceleration'].mean()\n",
        "print(\"Mean of all cars' acceleration:\", mean_acceleration)\n",
        "\n",
        "model_year_70_count = len(data[data['model_year'] == 70])\n",
        "print(\"Number of cars having 70 model year:\", model_year_70_count)\n",
        "\n",
        "acceleration_12_count = len(data[data['acceleration'] == 12])\n",
        "print(\"Number of cars having 12 acceleration:\", acceleration_12_count)\n",
        "\n",
        "horsepower_90_count = len(data[data['horsepower'] == 90])\n",
        "print(\"Number of cars with 90 horsepower:\", horsepower_90_count)\n",
        "\n",
        "lowest_displacement_count = len(data[data['displacement'] == data['displacement'].min()])\n",
        "print(\"Number of cars with lowest displacement:\", lowest_displacement_count)\n",
        "\n",
        "cylinders_median = data['cylinders'].median()\n",
        "print(\"Median of number of cylinders used in cars:\", cylinders_median)\n",
        "\n",
        "cylinders_6_count = len(data[data['cylinders'] == 6])\n",
        "print(\"Number of cars using 6 cylinders:\", cylinders_6_count)\n",
        "\n",
        "mpg_mode = data['mpg'].mode().values[0]\n",
        "print(\"Mode of mpg:\", mpg_mode)\n"
      ],
      "metadata": {
        "colab": {
          "base_uri": "https://localhost:8080/"
        },
        "id": "i5U6xj97rWB2",
        "outputId": "292aed75-53e9-4cf6-a9c1-6ce8ce076444"
      },
      "execution_count": null,
      "outputs": [
        {
          "output_type": "stream",
          "name": "stdout",
          "text": [
            "Total number of cars with lowest weight: 1\n",
            "Total number of cars with highest weight: 1\n",
            "Mean of all cars' acceleration: 13.489795918367347\n",
            "Number of cars having 70 model year: 29\n",
            "Number of cars having 12 acceleration: 5\n",
            "Number of cars with 90 horsepower: 3\n",
            "Number of cars with lowest displacement: 3\n",
            "Median of number of cylinders used in cars: 8.0\n",
            "Number of cars using 6 cylinders: 12\n",
            "Mode of mpg: 14\n"
          ]
        }
      ]
    }
  ]
}