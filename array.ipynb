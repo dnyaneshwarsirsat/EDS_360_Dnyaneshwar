{
  "nbformat": 4,
  "nbformat_minor": 0,
  "metadata": {
    "colab": {
      "provenance": [],
      "authorship_tag": "ABX9TyN8GnJDdHQy1xRZEDYdi66f",
      "include_colab_link": true
    },
    "kernelspec": {
      "name": "python3",
      "display_name": "Python 3"
    },
    "language_info": {
      "name": "python"
    }
  },
  "cells": [
    {
      "cell_type": "markdown",
      "metadata": {
        "id": "view-in-github",
        "colab_type": "text"
      },
      "source": [
        "<a href=\"https://colab.research.google.com/github/dnyaneshwarsirsat/EDS_360_Dnyaneshwar/blob/main/array.ipynb\" target=\"_parent\"><img src=\"https://colab.research.google.com/assets/colab-badge.svg\" alt=\"Open In Colab\"/></a>"
      ]
    },
    {
      "cell_type": "code",
      "execution_count": null,
      "metadata": {
        "colab": {
          "base_uri": "https://localhost:8080/"
        },
        "id": "V3ArXwJ0BWuJ",
        "outputId": "8637f2bf-da47-477c-fd80-a05117a7ffa1"
      },
      "outputs": [
        {
          "output_type": "execute_result",
          "data": {
            "text/plain": [
              "array([[11, 22, 33],\n",
              "       [44, 55, 66],\n",
              "       [77, 88, 99]])"
            ]
          },
          "metadata": {},
          "execution_count": 2
        }
      ],
      "source": [
        "import numpy as np\n",
        "arr1=np.array([[1,2,3],[4,5,6],[7,8,9]])\n",
        "arr2=np.array([[11,22,33],[44,55,66],[77,88,99]])\n",
        "arr1\n",
        "arr2"
      ]
    },
    {
      "cell_type": "code",
      "source": [
        "resultdiv=np.divide(arr1,arr2)\n",
        "resultdiv"
      ],
      "metadata": {
        "colab": {
          "base_uri": "https://localhost:8080/"
        },
        "id": "ZMCbNqLbBqGX",
        "outputId": "fe5083b6-4417-440e-f3dd-e4aa4550dac6"
      },
      "execution_count": null,
      "outputs": [
        {
          "output_type": "execute_result",
          "data": {
            "text/plain": [
              "array([[0.09090909, 0.09090909, 0.09090909],\n",
              "       [0.09090909, 0.09090909, 0.09090909],\n",
              "       [0.09090909, 0.09090909, 0.09090909]])"
            ]
          },
          "metadata": {},
          "execution_count": 3
        }
      ]
    },
    {
      "cell_type": "code",
      "source": [
        "resultmulti=np.multiply(arr1,arr2)\n",
        "resultmulti"
      ],
      "metadata": {
        "colab": {
          "base_uri": "https://localhost:8080/"
        },
        "id": "FV88T0MyB20f",
        "outputId": "b6b692b9-fe21-45a2-a586-cc9a5f9b1f9f"
      },
      "execution_count": null,
      "outputs": [
        {
          "output_type": "execute_result",
          "data": {
            "text/plain": [
              "array([[ 11,  44,  99],\n",
              "       [176, 275, 396],\n",
              "       [539, 704, 891]])"
            ]
          },
          "metadata": {},
          "execution_count": 4
        }
      ]
    },
    {
      "cell_type": "code",
      "source": [
        "resultadd=np.add(arr1,arr2)\n",
        "resultadd"
      ],
      "metadata": {
        "colab": {
          "base_uri": "https://localhost:8080/"
        },
        "id": "aI0KEqTHB_QA",
        "outputId": "1cbec8ef-3388-4a15-e906-0bc9eba209e1"
      },
      "execution_count": null,
      "outputs": [
        {
          "output_type": "execute_result",
          "data": {
            "text/plain": [
              "array([[ 12,  24,  36],\n",
              "       [ 48,  60,  72],\n",
              "       [ 84,  96, 108]])"
            ]
          },
          "metadata": {},
          "execution_count": 5
        }
      ]
    },
    {
      "cell_type": "code",
      "source": [
        "resultdiff=np.subtract(arr2,arr1)\n",
        "resultdiff"
      ],
      "metadata": {
        "colab": {
          "base_uri": "https://localhost:8080/"
        },
        "id": "glJ_G5a2CFhg",
        "outputId": "a3e6ccfe-c4e1-4aff-c217-328368fbb811"
      },
      "execution_count": null,
      "outputs": [
        {
          "output_type": "execute_result",
          "data": {
            "text/plain": [
              "array([[10, 20, 30],\n",
              "       [40, 50, 60],\n",
              "       [70, 80, 90]])"
            ]
          },
          "metadata": {},
          "execution_count": 6
        }
      ]
    },
    {
      "cell_type": "code",
      "source": [
        "a = np.array([1, 2, 3])\n",
        "b = np.array([4, 5, 6])\n",
        "c = np. stack((a,b),axis=0)\n",
        "print(c)"
      ],
      "metadata": {
        "colab": {
          "base_uri": "https://localhost:8080/"
        },
        "id": "bdLJTpdtCRW8",
        "outputId": "c88d1672-4cdc-4fea-e445-f097aa15ef2f"
      },
      "execution_count": null,
      "outputs": [
        {
          "output_type": "stream",
          "name": "stdout",
          "text": [
            "[[1 2 3]\n",
            " [4 5 6]]\n"
          ]
        }
      ]
    },
    {
      "cell_type": "code",
      "source": [
        "#subtraction\n",
        "re_array=arr1-arr2\n",
        "print(\"\\nBy Operator Method:\\n\",re_array)\n",
        "re_array=np.subtract(arr1,arr2)\n",
        "print(\"By Numpy Method:\\n\",re_array)\n",
        "\n"
      ],
      "metadata": {
        "colab": {
          "base_uri": "https://localhost:8080/"
        },
        "id": "oYlr8K8SKn0C",
        "outputId": "9ccfcf4f-6704-4a6a-ba2c-6071dce88df2"
      },
      "execution_count": null,
      "outputs": [
        {
          "output_type": "stream",
          "name": "stdout",
          "text": [
            "\n",
            "By Operator Method:\n",
            " [[-10 -20 -30]\n",
            " [-40 -50 -60]\n",
            " [-70 -80 -90]]\n",
            "By Numpy Method:\n",
            " [[-10 -20 -30]\n",
            " [-40 -50 -60]\n",
            " [-70 -80 -90]]\n"
          ]
        }
      ]
    },
    {
      "cell_type": "code",
      "source": [
        "#stacking\n",
        "#horizantal stacking\n",
        "re_array=np.hstack((arr1,arr2))\n",
        "print(re_array)\n",
        "\n",
        "#vertical staking\n",
        "re_array=np.vstack((arr1,arr2))\n",
        "print(re_array)"
      ],
      "metadata": {
        "colab": {
          "base_uri": "https://localhost:8080/"
        },
        "id": "i3zioXD0LOWm",
        "outputId": "44e6edb3-de9e-4cae-b092-4968c91ca523"
      },
      "execution_count": null,
      "outputs": [
        {
          "output_type": "stream",
          "name": "stdout",
          "text": [
            "[[ 1  2  3 11 22 33]\n",
            " [ 4  5  6 44 55 66]\n",
            " [ 7  8  9 77 88 99]]\n",
            "[[ 1  2  3]\n",
            " [ 4  5  6]\n",
            " [ 7  8  9]\n",
            " [11 22 33]\n",
            " [44 55 66]\n",
            " [77 88 99]]\n"
          ]
        }
      ]
    },
    {
      "cell_type": "code",
      "source": [],
      "metadata": {
        "id": "m7Cd5zF1MUbx"
      },
      "execution_count": null,
      "outputs": []
    }
  ]
}