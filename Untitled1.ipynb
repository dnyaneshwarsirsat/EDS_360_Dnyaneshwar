{
  "cells": [
    {
      "cell_type": "markdown",
      "metadata": {
        "id": "view-in-github",
        "colab_type": "text"
      },
      "source": [
        "<a href=\"https://colab.research.google.com/github/dnyaneshwarsirsat/EDS_360_Dnyaneshwar/blob/main/Untitled1.ipynb\" target=\"_parent\"><img src=\"https://colab.research.google.com/assets/colab-badge.svg\" alt=\"Open In Colab\"/></a>"
      ]
    },
    {
      "cell_type": "code",
      "execution_count": null,
      "metadata": {
        "colab": {
          "background_save": true
        },
        "id": "4CtAifT6q6fL"
      },
      "outputs": [],
      "source": [
        "f=open(\"abc\",\"r\")\n",
        "print(f.read())\n",
        "print(f.read(20))\n",
        "print(f.readline(1))"
      ]
    },
    {
      "cell_type": "code",
      "execution_count": null,
      "metadata": {
        "id": "Ifg68YV1cs3a"
      },
      "outputs": [],
      "source": []
    },
    {
      "cell_type": "code",
      "execution_count": null,
      "metadata": {
        "id": "xOD1sc4scttj"
      },
      "outputs": [],
      "source": []
    },
    {
      "cell_type": "code",
      "execution_count": null,
      "metadata": {
        "id": "QGpxmvktcvZs",
        "colab": {
          "base_uri": "https://localhost:8080/",
          "height": 135
        },
        "outputId": "e5ee6065-0cf7-4a15-f63d-7bb966ef90f2"
      },
      "outputs": [
        {
          "output_type": "error",
          "ename": "SyntaxError",
          "evalue": "ignored",
          "traceback": [
            "\u001b[0;36m  File \u001b[0;32m\"<ipython-input-7-b539e1b9bba5>\"\u001b[0;36m, line \u001b[0;32m11\u001b[0m\n\u001b[0;31m    for 1 lines :\u001b[0m\n\u001b[0m        ^\u001b[0m\n\u001b[0;31mSyntaxError\u001b[0m\u001b[0;31m:\u001b[0m cannot assign to literal\n"
          ]
        }
      ],
      "source": [
        " 1ename-[]\n",
        "des- []\n",
        "sal-[]\n",
        "dob-[]\n",
        "\n",
        "f=open(\"EmpInfo.csv\",\"r\")\n",
        "fc=f.read()\n",
        "print(\"File content\", fc)\n",
        "lines-fc.split (\"\\n\")\n",
        "\n",
        "for 1 lines :\n",
        "words=1.split(\",\")\n",
        "ename.append(words[0])\n",
        "des.append(words [1])\n",
        "sal.append (int (words [2]))\n",
        "dob.append(words[3])\n",
        "print (\"\\n\\nName:\", ename)\n",
        "print (\"\\n\\nDesignation\", des)\n",
        "print (\"\\n\\nSalary\",sal)\n",
        "print (\"\\n\\nDob\",dob)\n",
        "print (\"Maximum Salry\", max(sal))\n",
        "print(\"MInimum Salry\", min(sal))\n",
        "print(\"Addition of Sal\",sum(sal))"
      ]
    }
  ],
  "metadata": {
    "colab": {
      "provenance": [],
      "authorship_tag": "ABX9TyN+4BLYMm5mbEIXiTSBnqQe",
      "include_colab_link": true
    },
    "kernelspec": {
      "display_name": "Python 3",
      "name": "python3"
    },
    "language_info": {
      "name": "python"
    }
  },
  "nbformat": 4,
  "nbformat_minor": 0
}