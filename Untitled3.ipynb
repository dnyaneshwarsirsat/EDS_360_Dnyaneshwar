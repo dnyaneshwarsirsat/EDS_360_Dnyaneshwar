{
  "nbformat": 4,
  "nbformat_minor": 0,
  "metadata": {
    "colab": {
      "provenance": [],
      "authorship_tag": "ABX9TyMfqF7CAo9lTdhImBlN+CRj",
      "include_colab_link": true
    },
    "kernelspec": {
      "name": "python3",
      "display_name": "Python 3"
    },
    "language_info": {
      "name": "python"
    }
  },
  "cells": [
    {
      "cell_type": "markdown",
      "metadata": {
        "id": "view-in-github",
        "colab_type": "text"
      },
      "source": [
        "<a href=\"https://colab.research.google.com/github/dnyaneshwarsirsat/EDS_360_Dnyaneshwar/blob/main/Untitled3.ipynb\" target=\"_parent\"><img src=\"https://colab.research.google.com/assets/colab-badge.svg\" alt=\"Open In Colab\"/></a>"
      ]
    },
    {
      "cell_type": "code",
      "execution_count": null,
      "metadata": {
        "colab": {
          "base_uri": "https://localhost:8080/"
        },
        "id": "5lOCFJkSyNoP",
        "outputId": "62ef8949-80b0-4002-adcf-153e9aaf4e23"
      },
      "outputs": [
        {
          "output_type": "stream",
          "name": "stdout",
          "text": [
            "<class 'tuple'>\n",
            "\n",
            "Product_details\n",
            " ['Lenovo Laptop', 'Samsung M31', 'Realmi 10pro', 'Oppo F21', 'Lenovo Laptop', 'Samsung M31', '\"LG TV 32\"\"\"', 'Oppo F21', 'Lenovo Laptop', 'Samsung M31', '\"LG TV 32\"\"\"', 'Lenovo Laptop', 'Samsung M31', 'Realmi 10pro', 'Lenovo Laptop', 'Oppo F21', '\"LG TV 32\"\"\"', 'Lenovo Laptop', 'Samsung M31', '\"LG TV 32\"\"\"']\n",
            "\n",
            "Customer_details\n",
            " ('Kaustubh Mahajan', 'Siddhi Kiwale', 'Sanket Kandalkar', 'Yash Mali', 'Yash Bagul', 'Siddhi Kiwale', 'Sanket Kandalkar', 'Kaustubh Mahajan', 'Yash Mali', 'Siddhi Kiwale', 'Sanket Kandalkar', 'Kaustubh Mahajan', 'Yash Mali', 'Siddhi Kiwale', 'Tanuja Mali', 'Kaustubh Mahajan', 'Sanket Kandalkar', 'Siddhi Kiwale', 'Kaustubh Mahajan', 'Yash Mali')\n",
            "\n",
            "Supplier_details\n",
            " {'P00001': 'Raka Ele.', 'P00002': 'Vijay Sales', 'P00003': 'Gada Ele.', 'P00004': 'Surya Ele.', 'P00005': 'Raka Ele.', 'P00006': 'Gada Ele.', 'P00007': 'Vijay Sales', 'P00008': 'Surya Ele.', 'P00009': 'Raka Ele.', 'P00010': 'Gada Ele.', 'P00011': 'Surya Ele.', 'P00012': 'Raka Ele.', 'P00013': 'Surya Ele.', 'P00014': 'Raka Ele.', 'P00015': 'Gada Ele.', 'P00016': 'Vijay Sales', 'P00017': 'Deshmukh sales', 'P00018': 'Raka Ele.', 'P00019': 'Deshmukh sales', 'P00020': 'Gada Ele.'}\n",
            "\n",
            "Gender_details\n",
            " {'Kaustubh Mahajan': 'Male\\n', 'Siddhi Kiwale': 'Female\\n', 'Sanket Kandalkar': 'Male\\n', 'Yash Mali': 'Male\\n', 'Yash Bagul': 'Male\\n', 'Tanuja Mali': 'Female\\n'}"
          ]
        }
      ],
      "source": [
        "Product_details=[]\n",
        "Supplier_details=dict()\n",
        "Customer_details=[]\n",
        "gender={}\n",
        "\n",
        "fp1=open(\"/content/Sales.csv\",\"r\")\n",
        "data=fp1.readline()\n",
        "\n",
        "while(True):\n",
        "\n",
        "  data=fp1.readline()\n",
        "  if not data :\n",
        "      break;\n",
        "  #print(data)\n",
        "  #data=data.replace(\"\\n\",\"\")\n",
        "  temp=data.split(\",\")\n",
        "  Product_details.append(temp[1])\n",
        "  Customer_details.append(temp[3])\n",
        "  Supplier_details.update({temp[0]:temp[2]})\n",
        "  gender.update({temp[3]:temp[4]})\n",
        "\n",
        "fp1.close()\n",
        "Customer_details=tuple(Customer_details)\n",
        "print(type(Customer_details))\n",
        "print(\"\\nProduct_details\\n\",Product_details,end=\"\")\n",
        "print(\"\\n\\nCustomer_details\\n\",Customer_details,end=\"\")\n",
        "print(\"\\n\\nSupplier_details\\n\",Supplier_details,end=\"\")\n",
        "print(\"\\n\\nGender_details\\n\",gender,end=\"\")\n"
      ]
    },
    {
      "cell_type": "markdown",
      "source": [],
      "metadata": {
        "id": "5AFQr-R3Tjmk"
      }
    },
    {
      "cell_type": "code",
      "source": [
        "frequency={}\n",
        "# iterating over the list\n",
        "for item in Product_details:\n",
        "  if item in frequency:\n",
        "    # incremeting the counter\n",
        "    frequency[item] += 1\n",
        "  else:\n",
        "     # initializing the count\n",
        "    frequency[item] = 1\n",
        "# printing the frequency\n",
        "print(frequency)\n",
        "marklist=sorted(frequency.items(), key=lambda x:x[1],reverse=True)\n",
        "sortdict=dict(marklist)\n",
        "print(sortdict)\n",
        "print(\"The most popular product for sales\",list(sortdict.keys())[0],\"sold\",list(sortdict.values())[0],\"times\")\n",
        "\n"
      ],
      "metadata": {
        "colab": {
          "base_uri": "https://localhost:8080/"
        },
        "id": "jUYwYkQ60hD8",
        "outputId": "1de37fc1-7507-47c6-953c-3b26f80bdb38"
      },
      "execution_count": null,
      "outputs": [
        {
          "output_type": "stream",
          "name": "stdout",
          "text": [
            "{'Lenovo Laptop': 6, 'Samsung M31': 5, 'Realmi 10pro': 2, 'Oppo F21': 3, '\"LG TV 32\"\"\"': 4}\n",
            "{'Lenovo Laptop': 6, 'Samsung M31': 5, '\"LG TV 32\"\"\"': 4, 'Oppo F21': 3, 'Realmi 10pro': 2}\n",
            "The most popular product for sales Lenovo Laptop sold 6 times\n"
          ]
        }
      ]
    },
    {
      "cell_type": "code",
      "source": [],
      "metadata": {
        "id": "zicALRg7FlLe"
      },
      "execution_count": null,
      "outputs": []
    }
  ]
}