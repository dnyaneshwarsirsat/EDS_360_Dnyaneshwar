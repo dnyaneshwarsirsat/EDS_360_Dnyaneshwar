{
  "nbformat": 4,
  "nbformat_minor": 0,
  "metadata": {
    "colab": {
      "provenance": [],
      "authorship_tag": "ABX9TyMYdnLJoDuiR402OfMTCxPa",
      "include_colab_link": true
    },
    "kernelspec": {
      "name": "python3",
      "display_name": "Python 3"
    },
    "language_info": {
      "name": "python"
    }
  },
  "cells": [
    {
      "cell_type": "markdown",
      "metadata": {
        "id": "view-in-github",
        "colab_type": "text"
      },
      "source": [
        "<a href=\"https://colab.research.google.com/github/dnyaneshwarsirsat/EDS_360_Dnyaneshwar/blob/main/Untitled2.ipynb\" target=\"_parent\"><img src=\"https://colab.research.google.com/assets/colab-badge.svg\" alt=\"Open In Colab\"/></a>"
      ]
    },
    {
      "cell_type": "code",
      "execution_count": null,
      "metadata": {
        "colab": {
          "base_uri": "https://localhost:8080/"
        },
        "id": "6geb1VSFkGk4",
        "outputId": "e110560a-f985-48d8-c637-3a3821382fe7"
      },
      "outputs": [
        {
          "output_type": "stream",
          "name": "stdout",
          "text": [
            "\n",
            "\n",
            "File1 Contents: [['\\ufeff1', 'Natasha', '7'], ['2', 'Pratham', '8'], ['3', 'Nikhil', '9'], ['4', 'Sahil', '10']]\n",
            "\n",
            "\n",
            "File2 Contents: [['1', 'Natasha', '70'], ['2', 'Pratham', '80'], ['3', 'Nikhil', '90'], ['4', 'Sahil', '100']]\n",
            "[['\\ufeff1', 'Natasha', '7', '1', 'Natasha', '70'], ['2', 'Pratham', '8', '2', 'Pratham', '80'], ['3', 'Nikhil', '9', '3', 'Nikhil', '90'], ['4', 'Sahil', '10', '4', 'Sahil', '100']]\n",
            "sorted Data: [['4', 'Sahil', '10', '4', 'Sahil', '100'], ['3', 'Nikhil', '9', '3', 'Nikhil', '90'], ['2', 'Pratham', '8', '2', 'Pratham', '80'], ['\\ufeff1', 'Natasha', '7', '1', 'Natasha', '70']]\n",
            "\n",
            "\n",
            "Student 1 Sahil\n",
            " Student 2 Nikhil\n",
            " Student 3 Pratham\n",
            "Student 4 Natasha\n",
            "Maximum 7\n",
            "Minimum: 7\n",
            "Total is :  7\n",
            "average is: 7.0\n",
            "Maximum 8\n",
            "Minimum: 7\n",
            "Total is :  15\n",
            "average is: 7.5\n",
            "Maximum 9\n",
            "Minimum: 7\n",
            "Total is :  24\n",
            "average is: 8.0\n",
            "Maximum 10\n",
            "Minimum: 7\n",
            "Total is :  34\n",
            "average is: 8.5\n"
          ]
        }
      ],
      "source": [
        "import csv\n",
        "def top_4_student(d3):\n",
        "  d3.sort(key = lambda x: int(x[3]),reverse=True)\n",
        "  print(\"sorted Data:\",d3)\n",
        "\n",
        "  print(\"\\n\\nStudent 1\",d3[0][1])\n",
        "  print(\" Student 2\",d3[1][1])\n",
        "  print(\" Student 3\",d3[2][1])\n",
        "  print(\"Student 4\",d3[3][1])\n",
        "\n",
        "\n",
        "f1 = open(\"/content/Stud_CGPA.csv\",\"r\")\n",
        "f2 = open(\"/content/stud_Per.csv\",\"r\")\n",
        "f3 = open(\"Final_result.csv\",\"w\")\n",
        "\n",
        "d1=list(csv.reader(f1,delimiter=','))\n",
        "d2=list(csv.reader(f2,delimiter=','))\n",
        "\n",
        "print(\"\\n\\nFile1 Contents:\",d1)\n",
        "print(\"\\n\\nFile2 Contents:\",d2)\n",
        "d3 = []\n",
        "for i in range(len(d1)):\n",
        "  d3.append(d1[i] + d2[i])\n",
        "\n",
        "print(d3)\n",
        "cw = csv.writer(f3)\n",
        "cw.writerows(d3)\n",
        "\n",
        "top_4_student(d3)\n",
        "\n",
        "f1.close()\n",
        "f2.close()\n",
        "f3.close()\n",
        "\n",
        "res=[]\n",
        "with open('/content/Final_result.csv',mode=\"r\")as file:\n",
        "  csvFile = csv.reader(file)\n",
        "\n",
        "  for lines in csvFile:\n",
        "    res.append(int(lines[2]))\n",
        "    print(\"Maximum\",max(res))\n",
        "    print(\"Minimum:\",min(res))\n",
        "    print(\"Total is : \",sum(res))\n",
        "    print(\"average is:\",sum(res)/len(res))"
      ]
    }
  ]
}